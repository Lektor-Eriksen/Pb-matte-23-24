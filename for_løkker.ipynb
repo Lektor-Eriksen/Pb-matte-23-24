{
 "cells": [
  {
   "cell_type": "code",
   "execution_count": 2,
   "id": "d7d371e2-6126-4ee5-844e-ca5a664f7e69",
   "metadata": {},
   "outputs": [
    {
     "name": "stdout",
     "output_type": "stream",
     "text": [
      "2\n",
      "4\n",
      "6\n"
     ]
    }
   ],
   "source": [
    "# For-løkker\n",
    "\n",
    "# Me vil skrive ut 2-gongen\n",
    "\n",
    "# Me kan gjere dette manuelt\n",
    "\n",
    "print(2*1)\n",
    "print(2*2)\n",
    "print(2*3)\n",
    "\n",
    "# osv."
   ]
  },
  {
   "cell_type": "code",
   "execution_count": 3,
   "id": "fb83278b-a4ba-441c-8af5-6db4383a895b",
   "metadata": {},
   "outputs": [
    {
     "name": "stdout",
     "output_type": "stream",
     "text": [
      "0\n",
      "2\n",
      "4\n",
      "6\n",
      "8\n",
      "10\n",
      "12\n",
      "14\n",
      "16\n",
      "18\n",
      "20\n"
     ]
    }
   ],
   "source": [
    "# Me brukar ei for-løkke istaden\n",
    "\n",
    "for e in range(11):\n",
    "    print(2*e)\n",
    "    "
   ]
  },
  {
   "cell_type": "code",
   "execution_count": 4,
   "id": "127084c0-8a79-4119-9ed6-cff31e87bfa0",
   "metadata": {},
   "outputs": [
    {
     "name": "stdout",
     "output_type": "stream",
     "text": [
      "0\n",
      "1\n",
      "2\n",
      "3\n",
      "4\n"
     ]
    }
   ],
   "source": [
    "for i in range(5):\n",
    "    print(i)"
   ]
  },
  {
   "cell_type": "code",
   "execution_count": 5,
   "id": "1ee48197-22a2-4603-b59f-92aed718a788",
   "metadata": {},
   "outputs": [
    {
     "name": "stdout",
     "output_type": "stream",
     "text": [
      "0\n",
      "5\n",
      "10\n",
      "15\n",
      "20\n",
      "25\n",
      "30\n",
      "35\n",
      "40\n",
      "45\n",
      "50\n"
     ]
    }
   ],
   "source": [
    "# om me vil skrive ut 5-gongen\n",
    "\n",
    "for t in range(11):\n",
    "    print(5*t)\n",
    "    "
   ]
  },
  {
   "cell_type": "code",
   "execution_count": 6,
   "id": "f5110c35-b089-4bc7-87e4-398ce78267a8",
   "metadata": {},
   "outputs": [
    {
     "name": "stdout",
     "output_type": "stream",
     "text": [
      "2\n",
      "4\n",
      "6\n",
      "8\n",
      "10\n"
     ]
    }
   ],
   "source": [
    "# me kan lage ei liste\n",
    "\n",
    "# ei liste er bestemt utifrå [] med , \n",
    "# som mellomrom mellom kvart element i lista\n",
    "\n",
    "l = [] # detter er ei tom liste\n",
    "\n",
    "i = [2, 4, 6, 8, 10] # dette er ei liste med tal\n",
    "\n",
    "for t in i: # for kvart tal i lista i, så\n",
    "    print(t) # skriv ut talet \n",
    "    \n",
    "    "
   ]
  },
  {
   "cell_type": "code",
   "execution_count": 7,
   "id": "25d0a888-363b-4592-9c6e-c853958d06df",
   "metadata": {},
   "outputs": [
    {
     "name": "stdout",
     "output_type": "stream",
     "text": [
      "Namnet er Regine\n",
      "Namnet er Kjartan\n",
      "Namnet er Julia\n"
     ]
    }
   ],
   "source": [
    "n = ['Regine', 'Kjartan', 'Julia']\n",
    "# dette er ei liste med namn\n",
    "\n",
    "for e in n: # for kvart element i liste n\n",
    "    print('Namnet er', e) \n",
    "    # skriv ut 'Namnet er' og så namnet i lista\n",
    "    "
   ]
  },
  {
   "cell_type": "code",
   "execution_count": null,
   "id": "2e620c7c-e8bb-456c-8e0d-ab256a5af11e",
   "metadata": {},
   "outputs": [],
   "source": []
  }
 ],
 "metadata": {
  "kernelspec": {
   "display_name": "Python 3 (ipykernel)",
   "language": "python",
   "name": "python3"
  },
  "language_info": {
   "codemirror_mode": {
    "name": "ipython",
    "version": 3
   },
   "file_extension": ".py",
   "mimetype": "text/x-python",
   "name": "python",
   "nbconvert_exporter": "python",
   "pygments_lexer": "ipython3",
   "version": "3.9.7"
  }
 },
 "nbformat": 4,
 "nbformat_minor": 5
}
