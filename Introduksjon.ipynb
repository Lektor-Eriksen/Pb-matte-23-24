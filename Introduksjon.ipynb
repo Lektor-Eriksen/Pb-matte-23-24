{
 "cells": [
  {
   "cell_type": "markdown",
   "id": "146c634c-f8c3-44a1-93cb-2e732ed00f00",
   "metadata": {},
   "source": [
    "# Introduksjon"
   ]
  },
  {
   "cell_type": "code",
   "execution_count": 1,
   "id": "8af074e9-7c78-4de1-8635-56bb534dc667",
   "metadata": {},
   "outputs": [
    {
     "data": {
      "text/plain": [
       "12"
      ]
     },
     "execution_count": 1,
     "metadata": {},
     "output_type": "execute_result"
    }
   ],
   "source": [
    "5+7"
   ]
  },
  {
   "cell_type": "code",
   "execution_count": 2,
   "id": "628fa5fa-77b9-48c3-a4a3-9d3645fc0eab",
   "metadata": {},
   "outputs": [
    {
     "data": {
      "text/plain": [
       "10"
      ]
     },
     "execution_count": 2,
     "metadata": {},
     "output_type": "execute_result"
    }
   ],
   "source": [
    "2*5"
   ]
  },
  {
   "cell_type": "code",
   "execution_count": 3,
   "id": "ac542c18-51d7-422a-b80a-65ecb57ccb7d",
   "metadata": {},
   "outputs": [
    {
     "data": {
      "text/plain": [
       "4"
      ]
     },
     "execution_count": 3,
     "metadata": {},
     "output_type": "execute_result"
    }
   ],
   "source": [
    "8-4"
   ]
  },
  {
   "cell_type": "code",
   "execution_count": 4,
   "id": "59b10b58-b5e3-48a7-a5ed-c6f6a2332b05",
   "metadata": {},
   "outputs": [
    {
     "data": {
      "text/plain": [
       "8"
      ]
     },
     "execution_count": 4,
     "metadata": {},
     "output_type": "execute_result"
    }
   ],
   "source": [
    "2**3"
   ]
  },
  {
   "cell_type": "code",
   "execution_count": 5,
   "id": "6c4e0397-db5d-4ccb-b3c2-6c546cba0396",
   "metadata": {},
   "outputs": [
    {
     "data": {
      "text/plain": [
       "5.0"
      ]
     },
     "execution_count": 5,
     "metadata": {},
     "output_type": "execute_result"
    }
   ],
   "source": [
    "import math\n",
    "\n",
    "math.sqrt(25)"
   ]
  },
  {
   "cell_type": "code",
   "execution_count": 6,
   "id": "d11f427b-b3c9-4a65-9bbb-b087ea67b9ea",
   "metadata": {},
   "outputs": [
    {
     "name": "stdout",
     "output_type": "stream",
     "text": [
      "20\n"
     ]
    }
   ],
   "source": [
    "a = 4\n",
    "\n",
    "b = 5\n",
    "\n",
    "c = a*b\n",
    "\n",
    "print(c)"
   ]
  },
  {
   "cell_type": "code",
   "execution_count": 12,
   "id": "bf117219-48a5-4488-8e81-5021ed1802c5",
   "metadata": {},
   "outputs": [
    {
     "name": "stdin",
     "output_type": "stream",
     "text": [
      "lengde 5\n",
      "breidde 4\n",
      "eininga til avstandane m\n"
     ]
    },
    {
     "name": "stdout",
     "output_type": "stream",
     "text": [
      "arealet er: 20.0m^2\n"
     ]
    }
   ],
   "source": [
    "l = float(input('lengde'))\n",
    "b = float(input('breidde'))\n",
    "e = str(input('eininga til avstandane'))\n",
    "\n",
    "a = l*b\n",
    "\n",
    "d = e+'^2'\n",
    "\n",
    "s = str(a) + d\n",
    "\n",
    "print('arealet er:' , s)"
   ]
  },
  {
   "cell_type": "code",
   "execution_count": 24,
   "id": "6aba9e9e-c8e2-464b-bab5-609a4abcabb0",
   "metadata": {},
   "outputs": [
    {
     "name": "stdin",
     "output_type": "stream",
     "text": [
      "grader Fahrenheit 90\n"
     ]
    },
    {
     "name": "stdout",
     "output_type": "stream",
     "text": [
      "er 32.22 gradar Celsius\n"
     ]
    }
   ],
   "source": [
    "F = float(input('grader Fahrenheit'))\n",
    "\n",
    "C = (5/9)*(F-32)\n",
    "\n",
    "c = round(C, 2)\n",
    "\n",
    "print('er', c,'gradar Celsius')"
   ]
  },
  {
   "cell_type": "code",
   "execution_count": 15,
   "id": "24c01491-7614-4285-bc69-ffd7d3dcf7f9",
   "metadata": {},
   "outputs": [
    {
     "data": {
      "text/plain": [
       "3"
      ]
     },
     "execution_count": 15,
     "metadata": {},
     "output_type": "execute_result"
    }
   ],
   "source": [
    "16//5"
   ]
  },
  {
   "cell_type": "code",
   "execution_count": 16,
   "id": "7e2e9237-114c-4075-8eae-33d853674bf9",
   "metadata": {},
   "outputs": [
    {
     "data": {
      "text/plain": [
       "1"
      ]
     },
     "execution_count": 16,
     "metadata": {},
     "output_type": "execute_result"
    }
   ],
   "source": [
    "16 % 5"
   ]
  },
  {
   "cell_type": "code",
   "execution_count": 17,
   "id": "425ef269-bb38-48b3-8617-9dcc2ba0a61d",
   "metadata": {},
   "outputs": [
    {
     "name": "stdout",
     "output_type": "stream",
     "text": [
      "Hello world\n"
     ]
    }
   ],
   "source": [
    "a = 'Hello'\n",
    "b = ' world'\n",
    "\n",
    "print(a+b)"
   ]
  },
  {
   "cell_type": "code",
   "execution_count": 19,
   "id": "414d36b7-137c-475f-bd8d-1a8be666b020",
   "metadata": {},
   "outputs": [
    {
     "name": "stdout",
     "output_type": "stream",
     "text": [
      "Simen Eriksen\n"
     ]
    }
   ],
   "source": [
    "fornamn = 'Simen'\n",
    "etternamn = 'Eriksen'\n",
    "\n",
    "print(fornamn, etternamn)"
   ]
  },
  {
   "cell_type": "code",
   "execution_count": 20,
   "id": "c44458c9-f7ff-45ce-9d75-2f4773c4b640",
   "metadata": {},
   "outputs": [
    {
     "name": "stdout",
     "output_type": "stream",
     "text": [
      "russeknute\n"
     ]
    }
   ],
   "source": [
    "a = 'russ'\n",
    "\n",
    "b = 'eknute'\n",
    "\n",
    "print(a+b)"
   ]
  },
  {
   "cell_type": "code",
   "execution_count": null,
   "id": "6bf3eb62-020a-429d-9bc7-fef70ff41462",
   "metadata": {},
   "outputs": [],
   "source": []
  }
 ],
 "metadata": {
  "kernelspec": {
   "display_name": "Python 3 (ipykernel)",
   "language": "python",
   "name": "python3"
  },
  "language_info": {
   "codemirror_mode": {
    "name": "ipython",
    "version": 3
   },
   "file_extension": ".py",
   "mimetype": "text/x-python",
   "name": "python",
   "nbconvert_exporter": "python",
   "pygments_lexer": "ipython3",
   "version": "3.9.7"
  }
 },
 "nbformat": 4,
 "nbformat_minor": 5
}
