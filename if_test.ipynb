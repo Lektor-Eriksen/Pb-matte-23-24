{
 "cells": [
  {
   "cell_type": "code",
   "execution_count": 6,
   "id": "31e951d6-e475-41ed-8d39-4f7df8cc46af",
   "metadata": {},
   "outputs": [
    {
     "data": {
      "text/plain": [
       "False"
      ]
     },
     "execution_count": 6,
     "metadata": {},
     "output_type": "execute_result"
    }
   ],
   "source": [
    "# If tester. \n",
    "\n",
    "a = 4 \n",
    "\n",
    "b = 3\n",
    "\n",
    "a == b # testar om a er det samme som b"
   ]
  },
  {
   "cell_type": "code",
   "execution_count": 5,
   "id": "f116f4c8-0e9b-4f44-9481-00518ccc034f",
   "metadata": {},
   "outputs": [
    {
     "data": {
      "text/plain": [
       "True"
      ]
     },
     "execution_count": 5,
     "metadata": {},
     "output_type": "execute_result"
    }
   ],
   "source": [
    "a != b # testar om a og b er ulik"
   ]
  },
  {
   "cell_type": "code",
   "execution_count": 11,
   "id": "104b84ba-6684-44b0-b414-54a58283cfcd",
   "metadata": {},
   "outputs": [
    {
     "data": {
      "text/plain": [
       "False"
      ]
     },
     "execution_count": 11,
     "metadata": {},
     "output_type": "execute_result"
    }
   ],
   "source": [
    "a < b # testar om a er mindre enn b"
   ]
  },
  {
   "cell_type": "code",
   "execution_count": 8,
   "id": "82671b42-545a-4cf7-999a-791061f6cfa8",
   "metadata": {},
   "outputs": [
    {
     "data": {
      "text/plain": [
       "False"
      ]
     },
     "execution_count": 8,
     "metadata": {},
     "output_type": "execute_result"
    }
   ],
   "source": [
    "a <= b # testar om a er mindre, eller lik b"
   ]
  },
  {
   "cell_type": "code",
   "execution_count": 9,
   "id": "e58c0874-8c61-4908-bdb2-8d66a78ce7db",
   "metadata": {},
   "outputs": [
    {
     "data": {
      "text/plain": [
       "True"
      ]
     },
     "execution_count": 9,
     "metadata": {},
     "output_type": "execute_result"
    }
   ],
   "source": [
    "a > b # testar om a er større enn b"
   ]
  },
  {
   "cell_type": "code",
   "execution_count": 10,
   "id": "cc61408d-5832-48f0-a475-b19fd7422fbb",
   "metadata": {},
   "outputs": [
    {
     "data": {
      "text/plain": [
       "True"
      ]
     },
     "execution_count": 10,
     "metadata": {},
     "output_type": "execute_result"
    }
   ],
   "source": [
    "a >= b # testar om a er større enn "
   ]
  },
  {
   "cell_type": "code",
   "execution_count": 14,
   "id": "26083cd4-d7f7-4903-97ea-d7573b0ca576",
   "metadata": {},
   "outputs": [
    {
     "name": "stdout",
     "output_type": "stream",
     "text": [
      "2 er lik 2\n"
     ]
    }
   ],
   "source": [
    "a = 2\n",
    "\n",
    "b = 2\n",
    "\n",
    "if a < b: # viss a er mindre enn b, så\n",
    "    print(a, 'er mindre enn', b) # skriv ut denne setninga\n",
    "elif a > b: # viss a er større enn b, så\n",
    "    print(a, 'er større enn', b) # skriv ut denne setninga\n",
    "else: # elles så\n",
    "    print(a, 'er lik', b) # skriv ut denne setninga\n"
   ]
  },
  {
   "cell_type": "code",
   "execution_count": 16,
   "id": "9c3e6cf8-14b0-4719-8979-a67bd0da1df4",
   "metadata": {},
   "outputs": [
    {
     "name": "stdout",
     "output_type": "stream",
     "text": [
      "1\n",
      "8\n",
      "27\n",
      "64\n",
      "125\n",
      "216\n",
      "343\n",
      "512\n",
      "729\n",
      "1000\n"
     ]
    }
   ],
   "source": [
    "# while-løkker\n",
    "\n",
    "# me ynskjer å skrive dei første kubikktala opp til 1000\n",
    "\n",
    "s = 1 \n",
    "\n",
    "while s**3 <= 1000: # så lenge s^3 er mindre enn 1000, så\n",
    "    print(s**3)\n",
    "    s = s + 1  # me aukar s med 1, altså aukar me sidane med 1. \n"
   ]
  },
  {
   "cell_type": "code",
   "execution_count": null,
   "id": "e0d86e9d-3f28-4e09-8d2d-b8f993aae3c0",
   "metadata": {},
   "outputs": [],
   "source": []
  }
 ],
 "metadata": {
  "kernelspec": {
   "display_name": "Python 3 (ipykernel)",
   "language": "python",
   "name": "python3"
  },
  "language_info": {
   "codemirror_mode": {
    "name": "ipython",
    "version": 3
   },
   "file_extension": ".py",
   "mimetype": "text/x-python",
   "name": "python",
   "nbconvert_exporter": "python",
   "pygments_lexer": "ipython3",
   "version": "3.9.7"
  }
 },
 "nbformat": 4,
 "nbformat_minor": 5
}
