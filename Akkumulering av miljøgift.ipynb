{
 "cells": [
  {
   "cell_type": "code",
   "execution_count": 3,
   "id": "17c48169-fd16-4084-bca0-f37e2c2643fc",
   "metadata": {},
   "outputs": [
    {
     "name": "stdin",
     "output_type": "stream",
     "text": [
      "Konsentrasjonen av miljøgift i krill [mg/kg]: 0.1\n"
     ]
    },
    {
     "name": "stdout",
     "output_type": "stream",
     "text": [
      "Konsentrasjonen i lodde er  1.0 mg/kg\n",
      "Konsentrasjonen i sild er  10.0 mg/kg\n",
      "Konsentrasjonen i måke er  100.0 mg/kg\n"
     ]
    }
   ],
   "source": [
    "krill = float(input('Konsentrasjonen av miljøgift i krill [mg/kg]:' ))\n",
    "\n",
    "c = krill # konsentrasjon av miljøgift\n",
    "\n",
    "liste = ['lodde', 'sild', 'måke']\n",
    "\n",
    "for dyr in liste:\n",
    "    c = c*10 # går eitt ledd opp i næringskjeda\n",
    "    print('Konsentrasjonen i', dyr, 'er ', c, 'mg/kg')\n"
   ]
  },
  {
   "cell_type": "code",
   "execution_count": null,
   "id": "b01f3b99-5af3-4b00-9be4-d8576a77943a",
   "metadata": {},
   "outputs": [],
   "source": []
  }
 ],
 "metadata": {
  "kernelspec": {
   "display_name": "Python 3 (ipykernel)",
   "language": "python",
   "name": "python3"
  },
  "language_info": {
   "codemirror_mode": {
    "name": "ipython",
    "version": 3
   },
   "file_extension": ".py",
   "mimetype": "text/x-python",
   "name": "python",
   "nbconvert_exporter": "python",
   "pygments_lexer": "ipython3",
   "version": "3.9.7"
  }
 },
 "nbformat": 4,
 "nbformat_minor": 5
}
