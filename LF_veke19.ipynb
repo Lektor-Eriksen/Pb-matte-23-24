{
 "cells": [
  {
   "cell_type": "markdown",
   "id": "932d3feb-e60c-49a2-bf3b-9b3189eb66e6",
   "metadata": {},
   "source": [
    "# Løysningsforslag oppgåver veke 19\n"
   ]
  },
  {
   "cell_type": "markdown",
   "id": "c87ffac8-1027-4610-822f-78fbc6f6eb4e",
   "metadata": {},
   "source": [
    "## Oppg. 1"
   ]
  },
  {
   "cell_type": "markdown",
   "id": "8a1eeaf2-4489-4783-b030-74979c698b2e",
   "metadata": {},
   "source": [
    "### a)"
   ]
  },
  {
   "cell_type": "code",
   "execution_count": 1,
   "id": "f315fe03-c93d-4e1c-adbd-5d3d1f202634",
   "metadata": {},
   "outputs": [
    {
     "name": "stdout",
     "output_type": "stream",
     "text": [
      "Økningen er på 39.0 prosent\n"
     ]
    }
   ],
   "source": [
    "vekstfaktor = 1.39 # set ein verdi for vekstfaktoren\n",
    "\n",
    "if vekstfaktor > 1: # viss vekstfaktor er større enn 1, så\n",
    "    prosent = (vekstfaktor - 1)*100 # reknar ut prosentvis endring\n",
    "    print('Økningen er på', round(prosent, 2), 'prosent') # skriv ut kva den prosentvise auken var på, runda av til to desimalar\n",
    "else: # elles så\n",
    "    prosent = (1 - vekstfaktor)*100 # reknar ut prosentvis nedgong\n",
    "    print('Nedgongen er på', round(prosent, 2), 'prosent') # skriv ut kva den prosentvise nedgongen var på, runda av til to desimalar\n",
    "    "
   ]
  },
  {
   "cell_type": "markdown",
   "id": "93594dcc-307a-4ae6-8080-9d3d0a017c6f",
   "metadata": {},
   "source": [
    "### b), c), d), e), f), g)\n"
   ]
  },
  {
   "cell_type": "code",
   "execution_count": 2,
   "id": "0b9aef65-d227-4fd0-a077-d82381e3da7e",
   "metadata": {},
   "outputs": [
    {
     "name": "stdout",
     "output_type": "stream",
     "text": [
      "Økningen er på 25.0 prosent\n"
     ]
    }
   ],
   "source": [
    "# me kan bruke programmet slik den er og berre endre vekstfaktoren kvar gong. til dømes\n",
    "\n",
    "# b)\n",
    "\n",
    "vekstfaktor = 1.25 # set ein verdi for vekstfaktoren\n",
    "\n",
    "if vekstfaktor > 1: # viss vekstfaktor er større enn 1, så\n",
    "    prosent = (vekstfaktor - 1)*100 # reknar ut prosentvis endring\n",
    "    print('Økningen er på', round(prosent, 2), 'prosent') # skriv ut kva den prosentvise auken var på, runda av til to desimalar\n",
    "else: # elles så\n",
    "    prosent = (1 - vekstfaktor)*100 # reknar ut prosentvis nedgong\n",
    "    print('Nedgongen er på', round(prosent, 2), 'prosent') # skriv ut kva den prosentvise nedgongen var på, runda av til to desimalar\n"
   ]
  },
  {
   "cell_type": "code",
   "execution_count": 3,
   "id": "53685e3d-19e1-4165-a470-929df87fd549",
   "metadata": {},
   "outputs": [
    {
     "name": "stdout",
     "output_type": "stream",
     "text": [
      "Økningen er på 25.0 prosent\n",
      "Økningen er på 115.0 prosent\n",
      "Økningen er på 12.5 prosent\n",
      "Nedgongen er på 100 prosent\n",
      "Nedgongen er på 75.0 prosent\n",
      "Nedgongen er på 1.5 prosent\n"
     ]
    }
   ],
   "source": [
    "# men me kan bruke for-løkke til å gjere dette effektivt ved å lage ei liste med alle verdiane\n",
    "\n",
    "l = [1.25, 2.15, 1.125, 0, 0.25, 0.985]\n",
    "\n",
    "for v in l:\n",
    "    \n",
    "    vekstfaktor = v # set ein verdi for vekstfaktoren\n",
    "\n",
    "    if vekstfaktor > 1: # viss vekstfaktor er større enn 1, så\n",
    "        prosent = (vekstfaktor - 1)*100 # reknar ut prosentvis endring\n",
    "        print('Økningen er på', round(prosent, 2), 'prosent') # skriv ut kva den prosentvise auken var på, runda av til to desimalar\n",
    "    else: # elles så\n",
    "        prosent = (1 - vekstfaktor)*100 # reknar ut prosentvis nedgong\n",
    "        print('Nedgongen er på', round(prosent, 2), 'prosent') # skriv ut kva den prosentvise nedgongen var på, runda av til to desimalar"
   ]
  },
  {
   "cell_type": "markdown",
   "id": "c4baf762-bbac-428b-b0e6-a84b18d3d84e",
   "metadata": {},
   "source": [
    "## Oppg. 2"
   ]
  },
  {
   "cell_type": "code",
   "execution_count": 4,
   "id": "6e739aae-6b8c-4d29-a0a5-4a198e4d92b9",
   "metadata": {
    "tags": []
   },
   "outputs": [
    {
     "name": "stdout",
     "output_type": "stream",
     "text": [
      "8186.0\n",
      "29\n"
     ]
    }
   ],
   "source": [
    "# a) \n",
    "# Dette programmet reknar ut kor mange år det tek\n",
    "# før folketallet har dobla seg dersom det aukar med 2,5 % kvart år \n",
    "\n",
    "folketall = 4000 # bestemmer startverdien for folketallet\n",
    "\n",
    "verdi = folketall # introduserar ein variabel for folketallet som \n",
    "# startar på same verdi, men som kjem til å endre seg for kvart år som går\n",
    "\n",
    "vekstfaktor = 1.025 # bestemmer vekstfaktoren\n",
    "\n",
    "år = 0 # bestemmer startverdien for antall år\n",
    "\n",
    "while verdi < folketall*2: # så lenge det folketallet er mindre enn 8000, så\n",
    "    verdi = verdi*vekstfaktor # reknar ut ny verdi = gamal verdi * vekstfaktor\n",
    "    år = år + 1 # antall år aukar med éin\n",
    "    \n",
    "\n",
    "# b) \n",
    "\n",
    "print(round(verdi, 0)) # skriv ut folketallet ved året det dobla seg\n",
    "# ifrå startverdien, runda av til næraste heile tal, som 8186\n",
    "print(år) # skriv ut kor mange år det tok før folketalet dobla seg, som er 29"
   ]
  },
  {
   "cell_type": "markdown",
   "id": "c0bca0bb-8ae4-42cb-bf07-7b09642bfbcd",
   "metadata": {},
   "source": [
    "## oppg. 3\n",
    "### a)"
   ]
  },
  {
   "cell_type": "code",
   "execution_count": 11,
   "id": "8c77dc59-2f90-439e-986f-b3fdb00fd5bd",
   "metadata": {
    "tags": []
   },
   "outputs": [
    {
     "name": "stdout",
     "output_type": "stream",
     "text": [
      "103522.0\n",
      "9\n"
     ]
    }
   ],
   "source": [
    "beløp = 5000 # set startverdi for beløpet til å vere 5000\n",
    "vekstfaktor = 1.02 # set verdi for vekstfaktoren til 1.02\n",
    "år = 0 # startar etter 0 år\n",
    "\n",
    "while beløp < 100000: # så lenge beløpet er mindre enn 100 000, så\n",
    "    år = år + 1 # auk år med éin\n",
    "    beløp = beløp*vekstfaktor # reknar ut ny verdi = gamal verdi * vekstfaktor\n",
    "    beløp = beløp + 10000 # beløpet aukar med 10 000\n",
    "    \n",
    "print(round(beløp, 0)) # skriv ut beløpet, runda av til næraste heile tal \n",
    "print(round(år)) # skriv ut antall år"
   ]
  },
  {
   "cell_type": "markdown",
   "id": "412e0cc4-b9af-4ca6-a9b0-a9a3e663f048",
   "metadata": {},
   "source": [
    "### b)\n",
    "\n",
    "Dei to tala som blir skriven ut fortel oss at det tek 9 år før ein får 103 522 kr på ein konto dersom ein får 2 % rente og startar med eit innskot på 5 000 kr og set inn 10 000 kr ved slutten av kvart år. "
   ]
  },
  {
   "cell_type": "markdown",
   "id": "a80d335c-de13-40a1-ba7b-20e1869ec764",
   "metadata": {},
   "source": [
    "## Oppg. 4"
   ]
  },
  {
   "cell_type": "code",
   "execution_count": 14,
   "id": "771a461b-9172-4aa1-87e3-ebc60ff21c05",
   "metadata": {
    "tags": []
   },
   "outputs": [
    {
     "name": "stdout",
     "output_type": "stream",
     "text": [
      "1.0\n",
      "1.4142135623730951\n",
      "1.7320508075688772\n",
      "2.0\n",
      "2.23606797749979\n",
      "2.449489742783178\n",
      "2.6457513110645907\n",
      "2.8284271247461903\n",
      "3.0\n"
     ]
    }
   ],
   "source": [
    "# a)\n",
    "\n",
    "a = 1 # set startverdi til 1\n",
    "\n",
    "while a < 10: # så lenge a er mindre enn 10, så\n",
    "    svar = a**(1/2) # rekn ut a^(1/2)\n",
    "    a = a + 1 # øk a med éin\n",
    "# b)\n",
    "    print(svar) # skriv ut svaret, \n",
    "    # som vil vere det same som kvadratrota av a, sidan pr. def. a^(1/2) = sqrt(a)\n"
   ]
  },
  {
   "cell_type": "markdown",
   "id": "21748b0f-2170-4e90-86c9-12d00e658bbb",
   "metadata": {},
   "source": [
    "### Oppg. 5"
   ]
  },
  {
   "cell_type": "code",
   "execution_count": 30,
   "id": "a0bca66a-c06d-4429-bcf2-b8402d09576b",
   "metadata": {
    "tags": []
   },
   "outputs": [
    {
     "name": "stdout",
     "output_type": "stream",
     "text": [
      "Etter 1 år er saldoen 121200.0 kr.\n",
      "Etter 2 år er saldoen 122412.0 kr.\n",
      "Etter 3 år er saldoen 123636.0 kr.\n",
      "Etter 4 år er saldoen 124872.0 kr.\n",
      "Etter 5 år er saldoen 126121.0 kr.\n",
      "Etter 6 år er saldoen 127382.0 kr.\n",
      "Etter 7 år er saldoen 128656.0 kr.\n",
      "Etter 8 år er saldoen 129943.0 kr.\n",
      "Etter 9 år er saldoen 131242.0 kr.\n",
      "Etter 10 år er saldoen 132555.0 kr.\n"
     ]
    }
   ],
   "source": [
    "beløp = 120000 # beløpet startar på 120 000\n",
    "vekstfaktor = 1.01 # vekstfaktoren er 1.01 ifrå 1% auke\n",
    "år = 0 # startar etter 0 år\n",
    "\n",
    "while år < 10: # så lenge ÅR er mindre enn 10, så ...\n",
    "    # (Henrik hadde skreve beløp her, som gjorde at while-løkka \n",
    "    # aldri starta sidan 120 000 ikkje er mindre enn 10.)\n",
    "    beløp = beløp*vekstfaktor # rekn ut ny verdi = gamal verdi * vekstfaktor\n",
    "    år = år + 1 # øk antall år med éin\n",
    "    \n",
    "    print('Etter', år, 'år er saldoen', round(beløp,0), 'kr.')\n",
    "    # Print er no flytta med ein -> inn, slik at den er no inne i while-løkka.\n",
    "# Henrik hadde skreve print heilt inntil margen, og difor skjer print-en kun \n",
    "# etter at heile while-løkka er gjennomført\n",
    "# I tillegg pynta eg litt på print-en slik at det vart ei setning \n",
    "# og dermed heilt tydeleg kva det dreia seg om"
   ]
  },
  {
   "cell_type": "markdown",
   "id": "ca844397-5323-47ae-b132-74547723bddb",
   "metadata": {},
   "source": [
    "## Oppg. 6"
   ]
  },
  {
   "cell_type": "code",
   "execution_count": 39,
   "id": "4b0cd997-ea08-49c6-bf3b-dff9ab3bb2ed",
   "metadata": {
    "tags": []
   },
   "outputs": [
    {
     "name": "stdout",
     "output_type": "stream",
     "text": [
      "x | y\n",
      "0 | -5\n",
      "1 | -1\n",
      "2 | 3\n",
      "3 | 7\n",
      "4 | 11\n",
      "5 | 15\n",
      "6 | 19\n",
      "7 | 23\n",
      "8 | 27\n",
      "9 | 31\n"
     ]
    }
   ],
   "source": [
    "# Dette programmet skriv ut ein verditabell for \n",
    "# funksjonen y = 4x-5 for x-verdiane \n",
    "# frå og med 0 til og 10.\n",
    "\n",
    "xstart = 0 # set startverdi for x = 0\n",
    "xslutt = 10 # set sluttverdi for x = 10\n",
    "print('x | y') # skriv ut ein tittel for verditabellen\n",
    "for x in range(xstart,xslutt): # for kvar x-verdi \n",
    "    # frå og med xstart til og med xslutt, så\n",
    "    y = 4*x - 5 # rekn ut y-verdien for denne x-verdien\n",
    "    print(x, '|', y) # skriv ut x og y verdien i tabellen"
   ]
  },
  {
   "cell_type": "markdown",
   "id": "43e20820-4e14-4bc8-b1c4-8e91eb63434f",
   "metadata": {},
   "source": [
    "## Oppg. 7\n",
    "### a)"
   ]
  },
  {
   "cell_type": "code",
   "execution_count": 64,
   "id": "8967000c-1649-4696-a46b-3cfaf125221a",
   "metadata": {
    "tags": []
   },
   "outputs": [
    {
     "name": "stdout",
     "output_type": "stream",
     "text": [
      "Summen av dei første 20 kvadrattala er 2870\n"
     ]
    }
   ],
   "source": [
    "# Dette programmet summerar opp dei første 20 kvadrattala\n",
    "\n",
    "n = 0 # kvadratnummer. Må starte på 0 fordi me legg til 1 kvar gong inne i løkka\n",
    "# (rekkefølgja på kva som blir rekna først av n og k inne i løkka er vesentleg.\n",
    "# På denne måten sikrar me oss at den verdien n, k og s endar på dreier seg om \n",
    "# det same antallet kvadrat)\n",
    "s = 0 # summen startar på 0\n",
    "\n",
    "while n < 20: # så lenge me er på eit kvadratnummer mindre enn 20, så\n",
    "    n = n + 1 # gå til neste kvadratnummer\n",
    "    k = n**2 # rekn ut kvadrattalet til dette kvadratnummeret\n",
    "    s = s + k # ta vare på summen så langt og legg til det nye kvadrattalet\n",
    "\n",
    "\n",
    "print('Summen av dei første', n, 'kvadrattala er', s)\n",
    "# Skriv ut svaret som ei setning. "
   ]
  },
  {
   "cell_type": "markdown",
   "id": "2876225f-32b7-4fc9-9bd6-ec3def38b1a0",
   "metadata": {},
   "source": [
    "### b)"
   ]
  },
  {
   "cell_type": "code",
   "execution_count": 66,
   "id": "8787a6c0-a46d-429c-bfcf-cd72e6d06c6c",
   "metadata": {
    "tags": []
   },
   "outputs": [
    {
     "name": "stdout",
     "output_type": "stream",
     "text": [
      "Kvadratnummer 1 er 1\n",
      "Kvadratnummer 2 er 4\n",
      "Kvadratnummer 3 er 9\n",
      "Kvadratnummer 4 er 16\n",
      "Kvadratnummer 5 er 25\n",
      "Kvadratnummer 6 er 36\n",
      "Kvadratnummer 7 er 49\n",
      "Kvadratnummer 8 er 64\n",
      "Kvadratnummer 9 er 81\n",
      "Kvadratnummer 10 er 100\n",
      "Kvadratnummer 11 er 121\n",
      "Kvadratnummer 12 er 144\n",
      "Kvadratnummer 13 er 169\n",
      "Kvadratnummer 14 er 196\n",
      "Kvadratnummer 15 er 225\n",
      "Kvadratnummer 16 er 256\n",
      "Kvadratnummer 17 er 289\n",
      "Kvadratnummer 18 er 324\n",
      "Kvadratnummer 19 er 361\n",
      "Kvadratnummer 20 er 400\n"
     ]
    }
   ],
   "source": [
    "# Dette programmet skriv ut dei første 20 kvadrattala\n",
    "\n",
    "n = 0 # kvadratnummer. Må starte på 0 fordi me legg til 1 kvar gong inne i løkka\n",
    "# (rekkefølgja på kva som blir rekna først av n og k inne i løkka er vesentleg.\n",
    "# På denne måten sikrar me oss at den verdien n, og k endar på dreier seg om \n",
    "# det same antallet kvadrat)\n",
    "\n",
    "while n < 20: # så lenge me er på eit kvadratnummer mindre enn 20, så\n",
    "    n = n + 1 # går til neste kvadratnummer\n",
    "    k = n**2 # rekn ut kvadrattalet til dette kvadratnummeret\n",
    "    \n",
    "    print('Kvadratnummer', n, 'er', k)\n",
    "    # Skriv ut svaret som ei setning. "
   ]
  },
  {
   "cell_type": "markdown",
   "id": "9039638a-f5a5-4892-98c5-aaeca7e42387",
   "metadata": {},
   "source": [
    "For å vise litt til kva eg forsøker å fortelle i desse oppgåvene legg eg ved ei alternativ løysing:"
   ]
  },
  {
   "cell_type": "markdown",
   "id": "e83f0e4d-96b9-423f-8ec4-bfc84d6676f7",
   "metadata": {},
   "source": [
    "### Alternativ til oppg. 7 a)"
   ]
  },
  {
   "cell_type": "code",
   "execution_count": 78,
   "id": "12f01a42-ff46-46ab-8023-d35e67cd1c10",
   "metadata": {
    "tags": []
   },
   "outputs": [
    {
     "name": "stdout",
     "output_type": "stream",
     "text": [
      "Summen av dei første 20 kvadrattala er 2870\n"
     ]
    }
   ],
   "source": [
    "# Dette programmet summerar opp dei første 20 kvadrattala\n",
    "\n",
    "n = 1 # kvadratnummer 1.\n",
    "s = 0 # summen startar på 0\n",
    "\n",
    "while n <= 20: # så lenge me er på kvadratnummer 20 eller mindre, så\n",
    "    k = n**2 # rekn ut kvadrattalet til dette kvadratnummeret\n",
    "    s = s + k # ta vare på summen så langt og legg til det nye kvadrattalet\n",
    "    n = n + 1 # gå til neste kvadratnummer\n",
    "\n",
    "print('Summen av dei første', n-1, 'kvadrattala er', s)\n",
    "# Skriv ut svaret som ei setning.\n",
    "\n",
    "# legg merke til forskjellane på alternativa:\n",
    "# Her startar me på n=1, MEN har ei grense på n<=20 for å kome inn i løkka. \n",
    "# Me reknar ut kvadrattalet FØR me går til neste nummer\n",
    "# Det betyr at i den siste iterasjonen av løkka er n = 21 som stansar løkka,\n",
    "# men me må passe på å skrive n-1 når me skriv svaret"
   ]
  },
  {
   "cell_type": "markdown",
   "id": "1bc57a29-afff-4311-b3ed-08b9e10ecd1c",
   "metadata": {},
   "source": [
    "### Alternativ til oppg. 7 b)"
   ]
  },
  {
   "cell_type": "code",
   "execution_count": 80,
   "id": "6760ddb9-897c-4f33-819e-f5f96db3e346",
   "metadata": {
    "tags": []
   },
   "outputs": [
    {
     "name": "stdout",
     "output_type": "stream",
     "text": [
      "Kvadratnummer 1 er 1\n",
      "Kvadratnummer 2 er 4\n",
      "Kvadratnummer 3 er 9\n",
      "Kvadratnummer 4 er 16\n",
      "Kvadratnummer 5 er 25\n",
      "Kvadratnummer 6 er 36\n",
      "Kvadratnummer 7 er 49\n",
      "Kvadratnummer 8 er 64\n",
      "Kvadratnummer 9 er 81\n",
      "Kvadratnummer 10 er 100\n",
      "Kvadratnummer 11 er 121\n",
      "Kvadratnummer 12 er 144\n",
      "Kvadratnummer 13 er 169\n",
      "Kvadratnummer 14 er 196\n",
      "Kvadratnummer 15 er 225\n",
      "Kvadratnummer 16 er 256\n",
      "Kvadratnummer 17 er 289\n",
      "Kvadratnummer 18 er 324\n",
      "Kvadratnummer 19 er 361\n",
      "Kvadratnummer 20 er 400\n"
     ]
    }
   ],
   "source": [
    "# Dette programmet summerar opp dei første 20 kvadrattala\n",
    "\n",
    "n = 1 # kvadratnummer 1.\n",
    "s = 0 # summen startar på 0\n",
    "\n",
    "while n <= 20: # så lenge me er på kvadratnummer 20 eller mindre, så\n",
    "    k = n**2 # rekn ut kvadrattalet til dette kvadratnummeret\n",
    "    n = n + 1 # gå til neste kvadratnummer\n",
    "    \n",
    "    print('Kvadratnummer', n-1, 'er', k)\n",
    "    # Skriv ut svaret som ei setning for kvart kvadrattal\n",
    "\n",
    "# legg merke til forskjellane på alternativa:\n",
    "# Her startar me på n=1, MEN har ei grense på n<=20 for å kome inn i løkka. \n",
    "# Me reknar ut kvadrattalet FØR me går til neste nummer\n",
    "# Det betyr at i den siste iterasjonen av løkka er n = 21 som stansar løkka,\n",
    "# men me må passe på å skrive n-1 når me skriv svaret"
   ]
  },
  {
   "cell_type": "markdown",
   "id": "6f26414d-ffe1-4623-983b-9b7201168479",
   "metadata": {},
   "source": [
    "Begge løysingane funkar heilt fint - du må berre velje den som gjev mest meining for deg"
   ]
  },
  {
   "cell_type": "markdown",
   "id": "a976824d-ead1-401f-bfd8-d916c6f488eb",
   "metadata": {},
   "source": [
    "## Oppg. 8"
   ]
  },
  {
   "cell_type": "code",
   "execution_count": 116,
   "id": "81b711bc-1b93-47c3-8ab5-8d164fafba42",
   "metadata": {
    "tags": []
   },
   "outputs": [
    {
     "name": "stdout",
     "output_type": "stream",
     "text": [
      " x | y\n",
      "-------\n",
      "-2 | 9\n",
      "-1 | 4\n",
      " 0 | 1\n",
      " 1 | 0\n",
      " 2 | 1\n",
      " 3 | 4\n",
      " 4 | 9\n"
     ]
    }
   ],
   "source": [
    "x0 = -2 # startverdi for x\n",
    "x1= 5 # sluttverdi for x\n",
    "\n",
    "print(' x | y') # skriv ut tittelen for tabellen\n",
    "print('-------') # skriv ut ei linje for tittelen\n",
    "for x in range(x0,x1): # for kvar heile x-verdi fom. x0 tom. x1, så\n",
    "    y = x**2-2*x+1 # rekn ut tilsvarande y-verdi når y = x^2-2x+1\n",
    "    if x < 0: # viss x har minusteikn foran seg, så\n",
    "        print(x, '|', y) # skriv ut tilhøyrande x og y verdi i tabellen \n",
    "    else: # elles, så\n",
    "        print('',x, '|', y) # skriv ut tilhøyrande x og y verdi i tabellen\n",
    "        # med eit mellomrom for å kompensere for minusteiknet.\n",
    "        # På dette viset får me ein bein og fin tabell."
   ]
  },
  {
   "cell_type": "code",
   "execution_count": null,
   "id": "01daf88a-150a-46c8-8f9b-738ee862c35a",
   "metadata": {},
   "outputs": [],
   "source": []
  }
 ],
 "metadata": {
  "kernelspec": {
   "display_name": "Python 3 (ipykernel)",
   "language": "python",
   "name": "python3"
  },
  "language_info": {
   "codemirror_mode": {
    "name": "ipython",
    "version": 3
   },
   "file_extension": ".py",
   "mimetype": "text/x-python",
   "name": "python",
   "nbconvert_exporter": "python",
   "pygments_lexer": "ipython3",
   "version": "3.11.7"
  }
 },
 "nbformat": 4,
 "nbformat_minor": 5
}
