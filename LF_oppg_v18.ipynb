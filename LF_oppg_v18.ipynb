{
 "cells": [
  {
   "cell_type": "markdown",
   "id": "42156088-e0ac-4cab-8b8c-26d2ba944b75",
   "metadata": {},
   "source": [
    "# Løysningsforslag oppgåver veke 18"
   ]
  },
  {
   "cell_type": "markdown",
   "id": "36ea9b1a-4d2d-4b7f-84b4-ac69aabc6cee",
   "metadata": {},
   "source": [
    "### oppg. 1"
   ]
  },
  {
   "cell_type": "markdown",
   "id": "d6756a5f-693d-4257-96e3-e41a533c8423",
   "metadata": {},
   "source": [
    "a)"
   ]
  },
  {
   "cell_type": "code",
   "execution_count": 1,
   "id": "d51db838-9d4f-4356-a95d-bda954b0e72b",
   "metadata": {},
   "outputs": [
    {
     "data": {
      "text/plain": [
       "3"
      ]
     },
     "execution_count": 1,
     "metadata": {},
     "output_type": "execute_result"
    }
   ],
   "source": [
    "1+2"
   ]
  },
  {
   "cell_type": "markdown",
   "id": "14196702-ac32-4f94-b3b2-543d85d4741e",
   "metadata": {},
   "source": [
    "b)"
   ]
  },
  {
   "cell_type": "code",
   "execution_count": 2,
   "id": "849c7cc1-7416-47fd-9e1d-c2c2e3613a4d",
   "metadata": {},
   "outputs": [
    {
     "data": {
      "text/plain": [
       "20"
      ]
     },
     "execution_count": 2,
     "metadata": {},
     "output_type": "execute_result"
    }
   ],
   "source": [
    "4*5"
   ]
  },
  {
   "cell_type": "markdown",
   "id": "3d179d85-ff81-43a2-b545-83aaa55b3c2d",
   "metadata": {},
   "source": [
    "c)"
   ]
  },
  {
   "cell_type": "code",
   "execution_count": 3,
   "id": "7edf7f89-2265-47cd-ac58-1cb01f2810ce",
   "metadata": {},
   "outputs": [
    {
     "data": {
      "text/plain": [
       "0.8"
      ]
     },
     "execution_count": 3,
     "metadata": {},
     "output_type": "execute_result"
    }
   ],
   "source": [
    "4/5"
   ]
  },
  {
   "cell_type": "markdown",
   "id": "1db48183-110a-4f11-9462-e2230eb6bace",
   "metadata": {},
   "source": [
    "d)"
   ]
  },
  {
   "cell_type": "code",
   "execution_count": 4,
   "id": "cac7587a-3d8e-4682-9a7b-1ea2b65dddd9",
   "metadata": {},
   "outputs": [
    {
     "data": {
      "text/plain": [
       "1024"
      ]
     },
     "execution_count": 4,
     "metadata": {},
     "output_type": "execute_result"
    }
   ],
   "source": [
    "4**5"
   ]
  },
  {
   "cell_type": "markdown",
   "id": "334becc3-c35e-4045-8421-8fb97bf7b226",
   "metadata": {},
   "source": [
    "### oppg. 2"
   ]
  },
  {
   "cell_type": "code",
   "execution_count": 5,
   "id": "659cf25b-c3ec-4f6d-a566-d3ed76436268",
   "metadata": {},
   "outputs": [
    {
     "data": {
      "text/plain": [
       "7.584285481636439"
      ]
     },
     "execution_count": 5,
     "metadata": {},
     "output_type": "execute_result"
    }
   ],
   "source": [
    "import math\n",
    "\n",
    "2+0.5+2**3-math.sqrt(12)+17/(2**5-1)"
   ]
  },
  {
   "cell_type": "markdown",
   "id": "1f8560d8-3630-4dc8-afc9-00b811c084f2",
   "metadata": {},
   "source": [
    "### oppg. 3"
   ]
  },
  {
   "cell_type": "code",
   "execution_count": 9,
   "id": "8da617fb-9d40-44a7-84be-fdb95c37ddbf",
   "metadata": {},
   "outputs": [
    {
     "name": "stdin",
     "output_type": "stream",
     "text": [
      "gradar Fahrenheit 90\n"
     ]
    },
    {
     "name": "stdout",
     "output_type": "stream",
     "text": [
      "90.0 gradar Fahrenheit er =  32.22 gradar Celsius\n"
     ]
    }
   ],
   "source": [
    "F = float(input('gradar Fahrenheit'))\n",
    "# emneknaggen gjer at eg skrive forklaring\n",
    "# float betyr desimaltal og \n",
    "# input er det som lagar boksen der du skal skrive inn eit valfritt tal\n",
    "\n",
    "C = (5/9)*(F-32) # reknar ut gradar celsius\n",
    "\n",
    "c = round(C, 2) # rundar av til 2 desimalar\n",
    "\n",
    "print(F, 'gradar Fahrenheit er = ', c, 'gradar Celsius')"
   ]
  },
  {
   "cell_type": "markdown",
   "id": "381ec863-2f08-46b0-af55-09da5c66d2a5",
   "metadata": {},
   "source": [
    "### Oppg. 4"
   ]
  },
  {
   "cell_type": "markdown",
   "id": "3dec7290-4946-4d49-a10c-efa060beb3ca",
   "metadata": {},
   "source": [
    "a)"
   ]
  },
  {
   "cell_type": "code",
   "execution_count": 10,
   "id": "a2a91157-6dae-403b-8eb2-ffd034f7a4c5",
   "metadata": {},
   "outputs": [
    {
     "data": {
      "text/plain": [
       "12"
      ]
     },
     "execution_count": 10,
     "metadata": {},
     "output_type": "execute_result"
    }
   ],
   "source": [
    "100 // 8"
   ]
  },
  {
   "cell_type": "markdown",
   "id": "70e5c4c0-ebaf-4c12-a8f5-317488b430d0",
   "metadata": {},
   "source": [
    "b)"
   ]
  },
  {
   "cell_type": "code",
   "execution_count": 11,
   "id": "1471e2d1-04d6-4d6f-bf89-80e9e98be12f",
   "metadata": {},
   "outputs": [
    {
     "data": {
      "text/plain": [
       "5"
      ]
     },
     "execution_count": 11,
     "metadata": {},
     "output_type": "execute_result"
    }
   ],
   "source": [
    "39812904 % 7"
   ]
  },
  {
   "cell_type": "markdown",
   "id": "0e12a0ed-3e67-4fbd-9d81-2675936163ad",
   "metadata": {},
   "source": [
    "Nei, det går ikkje opp i 7-gongen. Me får 5 i rest. "
   ]
  },
  {
   "cell_type": "markdown",
   "id": "14afa3ac-6934-49e5-9939-cf0cbf3ecb3f",
   "metadata": {},
   "source": [
    "### Oppg. 5"
   ]
  },
  {
   "cell_type": "markdown",
   "id": "b165f4ea-627d-4ccd-a82d-f6be6946f121",
   "metadata": {},
   "source": [
    "a)"
   ]
  },
  {
   "cell_type": "code",
   "execution_count": 14,
   "id": "e43d189f-d47a-420d-9e02-707acd457a95",
   "metadata": {},
   "outputs": [
    {
     "name": "stdout",
     "output_type": "stream",
     "text": [
      "3\n"
     ]
    }
   ],
   "source": [
    "a = 1 # definerar kva talverdi a skal ha\n",
    "\n",
    "b = 2 # definerar kva talverdi b skal ha\n",
    "\n",
    "print(a+b) # printar ut summen av a og b som blir 3"
   ]
  },
  {
   "cell_type": "markdown",
   "id": "2ec70435-5c0d-4820-9dd9-b7c0d65f5e14",
   "metadata": {},
   "source": [
    "b)"
   ]
  },
  {
   "cell_type": "code",
   "execution_count": 16,
   "id": "4f008073-e991-494e-9c36-e059af6be9ba",
   "metadata": {},
   "outputs": [
    {
     "name": "stdout",
     "output_type": "stream",
     "text": [
      "34\n"
     ]
    }
   ],
   "source": [
    "a = '3' # definerar a til å vere ein string, dvs. tekst, der det står 3\n",
    "\n",
    "b = '4' # definerar b til å vere ein string, dvs. tekst, der det står 4\n",
    "\n",
    "print(a+b) # printar ut ein string (tekst) som startar med 3 og sluttar med 4. Får difor 34. "
   ]
  },
  {
   "cell_type": "markdown",
   "id": "452e6cd1-2586-464e-b915-ab4d9567f359",
   "metadata": {},
   "source": [
    "### Oppg. 6"
   ]
  },
  {
   "cell_type": "code",
   "execution_count": 23,
   "id": "30a111e6-5754-4637-a90c-6855cf834a1b",
   "metadata": {},
   "outputs": [
    {
     "name": "stdin",
     "output_type": "stream",
     "text": [
      "Radiusen til sirkelen er:  5\n",
      "Eininga til radiusen er:  cm\n"
     ]
    },
    {
     "name": "stdout",
     "output_type": "stream",
     "text": [
      "Omkrinsen til sirkelen er 31.416 cm\n"
     ]
    }
   ],
   "source": [
    "import math # hentar matte-biblioteket \n",
    "\n",
    "r = float(input('Radiusen til sirkelen er: '))\n",
    "# lagar ein boks som spør kva radiusen til sirkelen er. Gjer svaret om til eit desimaltal.\n",
    "\n",
    "e = str(input('Eininga til radiusen er: '))\n",
    "# ber om eininga til radiusen\n",
    "\n",
    "O = 2*math.pi*r #reknar ut omkrinsen til sirkelen\n",
    "\n",
    "o = round(O,3) # rundar omkrinsen av til tre desimaltal.\n",
    "\n",
    "print('Omkrinsen til sirkelen er', o, e) \n",
    "# printar ut svaret som ei setning"
   ]
  },
  {
   "cell_type": "markdown",
   "id": "06e7515f-7c57-42fe-a055-982825016538",
   "metadata": {},
   "source": [
    "### Oppg. 7"
   ]
  },
  {
   "cell_type": "code",
   "execution_count": 26,
   "id": "1e737db4-b5c9-4415-9d95-e0675b9ed68a",
   "metadata": {},
   "outputs": [
    {
     "name": "stdin",
     "output_type": "stream",
     "text": [
      "Antall minutt 456\n"
     ]
    },
    {
     "name": "stdout",
     "output_type": "stream",
     "text": [
      "456.0 minutt er 7.0 timar og 36.0 min.\n"
     ]
    }
   ],
   "source": [
    "M = float(input('Antall minutt'))\n",
    "# ber om kor mange minutt som skal reknast med. Gjer det om til desimaltal.\n",
    "\n",
    "t = M // 60 # reknar ut antall timar\n",
    "\n",
    "m = M % 60 # reknar ut kor mange minutt som er i rest\n",
    "\n",
    "print(M, 'minutt er', t, 'timar og', m, 'min.')\n",
    "# skriv ut svaret som ei setning"
   ]
  },
  {
   "cell_type": "markdown",
   "id": "1c273519-85a5-4deb-a20d-e1d5cc0badbc",
   "metadata": {},
   "source": [
    "### Oppg. 8"
   ]
  },
  {
   "cell_type": "code",
   "execution_count": 32,
   "id": "194bce09-c7b9-48f7-af3c-cc2fbde0dd21",
   "metadata": {},
   "outputs": [
    {
     "name": "stdin",
     "output_type": "stream",
     "text": [
      "lengde på første sida 5\n",
      "lengde på andre sida 6\n",
      "lengde på tredje sida 7\n",
      "eining på sidane m\n"
     ]
    },
    {
     "name": "stdout",
     "output_type": "stream",
     "text": [
      "Arealet til trekanten er:  14.7 m ^2\n"
     ]
    }
   ],
   "source": [
    "import math # hentar matte-biblioteket\n",
    "\n",
    "a = float(input('lengde på første sida'))\n",
    "# ber om lengda på første sida og gjer det om til eit desimaltal.\n",
    "\n",
    "b = float(input('lengde på andre sida'))\n",
    "# ber om lengda på andre sida og gjer det om til eit desimaltal.\n",
    "\n",
    "c = float(input('lengde på tredje sida'))\n",
    "# ber om lengda på tredje sida og gjer det om til eit desimaltal.\n",
    "\n",
    "e = str(input('eining på sidane'))\n",
    "\n",
    "s = 1/2 * (a+b+c) # reknar ut s i Heron sin formel\n",
    "\n",
    "A = math.sqrt(s*(s-a)*(s-b)*(s-c)) \n",
    "# reknar ut arealet til trekanten utifrå Heron sin formel\n",
    "\n",
    "s = round(A, 2) # rundar av svaret til to desimalar\n",
    "\n",
    "print('Arealet til trekanten er: ', s, e,'^2')\n",
    "#skriv ut svaret som ei setning"
   ]
  },
  {
   "cell_type": "markdown",
   "id": "e47c3805-28e9-4c98-a754-92658ed3d3b1",
   "metadata": {},
   "source": [
    "### Oppg. 9"
   ]
  },
  {
   "cell_type": "code",
   "execution_count": 33,
   "id": "176ea5c6-08ab-4e74-9d95-3adac6b4b22c",
   "metadata": {},
   "outputs": [
    {
     "name": "stdin",
     "output_type": "stream",
     "text": [
      "a =  4\n",
      "b =  7\n"
     ]
    },
    {
     "name": "stdout",
     "output_type": "stream",
     "text": [
      "a =  4 b =  4\n"
     ]
    }
   ],
   "source": [
    "a = input('a = ') # ber brukaren om å definere a\n",
    "b = input('b = ') # ber brukaren om å definere b\n",
    "c = a # set c lik a\n",
    "b = c # set b lik c, altså det same som a\n",
    "print('a = ', a,'b = ', b) # skriv ut siste versjonen av a og b, altså det same"
   ]
  },
  {
   "cell_type": "markdown",
   "id": "1711672f-11ca-4135-817e-b0cc8159ce66",
   "metadata": {},
   "source": [
    "### Oppg. 10"
   ]
  },
  {
   "cell_type": "markdown",
   "id": "1fb27b41-d325-4783-b94f-1264a80e5305",
   "metadata": {},
   "source": [
    "a)"
   ]
  },
  {
   "cell_type": "code",
   "execution_count": 36,
   "id": "fac82686-63b0-4da6-9f9b-c1cbaf304c26",
   "metadata": {},
   "outputs": [
    {
     "name": "stdout",
     "output_type": "stream",
     "text": [
      "23 % av 432 er 99.36\n"
     ]
    }
   ],
   "source": [
    "p = 23 # set prosenten lik 23%\n",
    "h = 432 # set det heile tallet lik 432\n",
    "d = p/100 * h # reknar ut prosentdelen av det heile \n",
    "print(p, '% av', h,'er', round(d,2)) \n",
    "# skriv ut kva prosentdelen av 432 er utifrå 23 %."
   ]
  },
  {
   "cell_type": "markdown",
   "id": "52e8f526-e667-4c5c-977d-7ee3b32aec36",
   "metadata": {},
   "source": [
    "b)"
   ]
  },
  {
   "cell_type": "markdown",
   "id": "fd6c04ae-db50-4fd4-9783-cdce7a5026d2",
   "metadata": {},
   "source": [
    "1."
   ]
  },
  {
   "cell_type": "code",
   "execution_count": 38,
   "id": "ade9ffd7-f7c8-499f-b5e4-efd27d742136",
   "metadata": {},
   "outputs": [
    {
     "name": "stdout",
     "output_type": "stream",
     "text": [
      "23 % av 1530 er 351.9 kr.\n"
     ]
    }
   ],
   "source": [
    "p = 23\n",
    "h = 1530\n",
    "d = p/100 * h \n",
    "print(p, '% av', h,'er', round(d,2), 'kr.') "
   ]
  },
  {
   "cell_type": "markdown",
   "id": "c2124a18-c3a5-4ec7-a0b9-92fb2c582677",
   "metadata": {},
   "source": [
    "2."
   ]
  },
  {
   "cell_type": "code",
   "execution_count": 39,
   "id": "0a83dd25-5002-4dc8-845c-2380b738a27f",
   "metadata": {},
   "outputs": [
    {
     "name": "stdout",
     "output_type": "stream",
     "text": [
      "22.4 % av 9582 er 2146.37 kr.\n"
     ]
    }
   ],
   "source": [
    "p = 22.4\n",
    "h = 9582\n",
    "d = p/100 * h \n",
    "print(p, '% av', h,'er', round(d,2), 'kr.') "
   ]
  },
  {
   "cell_type": "markdown",
   "id": "0fd2932f-991e-4874-b407-eb65982f6808",
   "metadata": {},
   "source": [
    "3."
   ]
  },
  {
   "cell_type": "code",
   "execution_count": 40,
   "id": "f1152b8e-57c3-42f5-b333-3cdec1004fa3",
   "metadata": {},
   "outputs": [
    {
     "name": "stdout",
     "output_type": "stream",
     "text": [
      "103 % av 4250 er 4377.5 kr.\n"
     ]
    }
   ],
   "source": [
    "p = 103\n",
    "h = 4250\n",
    "d = p/100 * h \n",
    "print(p, '% av', h,'er', round(d,2), 'kr.') "
   ]
  },
  {
   "cell_type": "markdown",
   "id": "a1a4095d-a1c6-45a6-b8a5-85eed7b9d76b",
   "metadata": {},
   "source": [
    "4."
   ]
  },
  {
   "cell_type": "code",
   "execution_count": 41,
   "id": "5f6d3f05-edf8-4fa2-8acf-4271e783deb7",
   "metadata": {},
   "outputs": [
    {
     "name": "stdout",
     "output_type": "stream",
     "text": [
      "0.4 % av 1000000 er 4000.0 kr.\n"
     ]
    }
   ],
   "source": [
    "p = 0.4\n",
    "h = 10**6\n",
    "d = p/100 * h \n",
    "print(p, '% av', h,'er', round(d,2), 'kr.') "
   ]
  },
  {
   "cell_type": "markdown",
   "id": "40f71aaa-4629-4f12-958d-01b871589d09",
   "metadata": {},
   "source": [
    "### Oppg. 11"
   ]
  },
  {
   "cell_type": "markdown",
   "id": "db5d2471-0fe3-449a-a7c5-606cb91d5e46",
   "metadata": {},
   "source": [
    "a)"
   ]
  },
  {
   "cell_type": "code",
   "execution_count": 47,
   "id": "6a3cc7e5-a016-4bba-8b86-3cd952a46cfb",
   "metadata": {},
   "outputs": [
    {
     "name": "stdout",
     "output_type": "stream",
     "text": [
      "Endringa i prosentpoeng er:  2.5\n",
      "Endringa i prosent er:  43.9 %\n"
     ]
    }
   ],
   "source": [
    "p1 = 5.7 # definerar startprosenten\n",
    "\n",
    "p2 = 8.2 # definerar sluttprosenten\n",
    "\n",
    "poeng = p2-p1 # reknar ut endringa i prosentpoeng\n",
    "\n",
    "d_p = poeng/p1 * 100 # reknar ut endringa i prosent\n",
    "\n",
    "print('Endringa i prosentpoeng er: ', round(poeng, 1))\n",
    "print('Endringa i prosent er: ', round(d_p, 1), '%')\n",
    "# skriv ut svara runda av til eitt desimal som ei setning "
   ]
  },
  {
   "cell_type": "markdown",
   "id": "464d3592-27ad-48c8-a59b-84e0bf8ed461",
   "metadata": {},
   "source": [
    "b) og c)"
   ]
  },
  {
   "cell_type": "code",
   "execution_count": 46,
   "id": "b4ffcc5a-991f-481f-ace3-8b33f6263578",
   "metadata": {},
   "outputs": [
    {
     "name": "stdout",
     "output_type": "stream",
     "text": [
      "Endringa i prosentpoeng er:  0.25\n",
      "Endringa i prosent er:  25.0 %\n"
     ]
    }
   ],
   "source": [
    "p1 = 1.00 # definerar startprosenten\n",
    "\n",
    "p2 = 1.25 # definerar sluttprosenten\n",
    "\n",
    "poeng = p2-p1 # reknar ut endringa i prosentpoeng\n",
    "\n",
    "d_p = poeng/p1 * 100 # reknar ut endringa i prosent\n",
    "\n",
    "print('Endringa i prosentpoeng er: ', round(poeng, 2)) #tek med to desimalar\n",
    "print('Endringa i prosent er: ', round(d_p, 1), '%')\n",
    "# skriv ut svara som ei setning "
   ]
  },
  {
   "cell_type": "markdown",
   "id": "120fbb55-29b1-4dbf-b827-c58e9ed3dd33",
   "metadata": {},
   "source": [
    "### Oppg. 12"
   ]
  },
  {
   "cell_type": "markdown",
   "id": "06f1aeab-bcad-4c06-b1b9-d3bbbf0cbb7d",
   "metadata": {},
   "source": [
    "a)"
   ]
  },
  {
   "cell_type": "code",
   "execution_count": 48,
   "id": "01463894-e8f4-47f1-8953-8adda949d8c5",
   "metadata": {},
   "outputs": [
    {
     "name": "stdin",
     "output_type": "stream",
     "text": [
      "Kva er endringa i prosent? 23\n"
     ]
    },
    {
     "name": "stdout",
     "output_type": "stream",
     "text": [
      "Vekstfaktoren er 1.23\n"
     ]
    }
   ],
   "source": [
    "s = input('Kva er endringa i prosent?')\n",
    "# lagar ein boks der brukaren kan putte inn endringa i prosent\n",
    "p = float(s) # gjer inputen til desimaltal \n",
    "\n",
    "v = 1 + p/100 # reknar ut vekstfaktoren utifrå endring i prosent\n",
    "\n",
    "print('Vekstfaktoren er', round(v, 3)) # skriv svaret med 3 desimalar"
   ]
  },
  {
   "cell_type": "markdown",
   "id": "af199685-2653-4a35-83c0-7fb125e432f3",
   "metadata": {},
   "source": [
    "b)\n"
   ]
  },
  {
   "cell_type": "markdown",
   "id": "4224629d-f18e-4701-86ef-21539f78082a",
   "metadata": {},
   "source": [
    "Du kan rekne ut vekstfaktoren ved prosentvis nedgong ved å ha eit minusteikn før talet du skriv inn i boksen. T.d. om du skriv **-30** inn i boksen får du vekstfaktor lik 0,70"
   ]
  },
  {
   "cell_type": "code",
   "execution_count": null,
   "id": "f08198ed-8db3-4b6b-b7e2-4511eb243a3b",
   "metadata": {},
   "outputs": [],
   "source": []
  }
 ],
 "metadata": {
  "kernelspec": {
   "display_name": "Python 3 (ipykernel)",
   "language": "python",
   "name": "python3"
  },
  "language_info": {
   "codemirror_mode": {
    "name": "ipython",
    "version": 3
   },
   "file_extension": ".py",
   "mimetype": "text/x-python",
   "name": "python",
   "nbconvert_exporter": "python",
   "pygments_lexer": "ipython3",
   "version": "3.9.7"
  }
 },
 "nbformat": 4,
 "nbformat_minor": 5
}
