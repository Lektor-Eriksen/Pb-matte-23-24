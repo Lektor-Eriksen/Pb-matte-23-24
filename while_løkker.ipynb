{
 "cells": [
  {
   "cell_type": "code",
   "execution_count": 1,
   "id": "4a14bab9-0f0f-4417-b5fe-eb9dd92e1f2e",
   "metadata": {},
   "outputs": [
    {
     "name": "stdout",
     "output_type": "stream",
     "text": [
      "1\n",
      "8\n",
      "27\n",
      "64\n",
      "125\n",
      "216\n",
      "343\n",
      "512\n",
      "729\n",
      "1000\n"
     ]
    }
   ],
   "source": [
    "# While-løkker\n",
    "\n",
    "# me ønsker å skrive ut dei første kubikktala \n",
    "# fram til og med 1000\n",
    "\n",
    "s = 1 \n",
    "\n",
    "while s**3 <= 1000: \n",
    "    # så lenge s^3 er mindre enn eller lik \n",
    "    # 1000, så skal du gjere dette\n",
    "    \n",
    "    print(s**3) # skriv kubikktalet\n",
    "    \n",
    "    s = s + 1 # øk sidene med 1\n"
   ]
  },
  {
   "cell_type": "code",
   "execution_count": null,
   "id": "914c46b9-1b68-4b64-8730-8c07ebc30b78",
   "metadata": {},
   "outputs": [],
   "source": []
  }
 ],
 "metadata": {
  "kernelspec": {
   "display_name": "Python 3 (ipykernel)",
   "language": "python",
   "name": "python3"
  },
  "language_info": {
   "codemirror_mode": {
    "name": "ipython",
    "version": 3
   },
   "file_extension": ".py",
   "mimetype": "text/x-python",
   "name": "python",
   "nbconvert_exporter": "python",
   "pygments_lexer": "ipython3",
   "version": "3.9.7"
  }
 },
 "nbformat": 4,
 "nbformat_minor": 5
}
